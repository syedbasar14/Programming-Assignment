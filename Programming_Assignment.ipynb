{
  "nbformat": 4,
  "nbformat_minor": 0,
  "metadata": {
    "colab": {
      "provenance": [],
      "authorship_tag": "ABX9TyPdhmwx9XHcAtUqp25s/dIx",
      "include_colab_link": true
    },
    "kernelspec": {
      "name": "python3",
      "display_name": "Python 3"
    },
    "language_info": {
      "name": "python"
    }
  },
  "cells": [
    {
      "cell_type": "markdown",
      "metadata": {
        "id": "view-in-github",
        "colab_type": "text"
      },
      "source": [
        "<a href=\"https://colab.research.google.com/github/syedbasar14/Programming-Assignment/blob/main/Programming_Assignment.ipynb\" target=\"_parent\"><img src=\"https://colab.research.google.com/assets/colab-badge.svg\" alt=\"Open In Colab\"/></a>"
      ]
    },
    {
      "cell_type": "markdown",
      "source": [
        "# **Programming Assignment_1**\n",
        "\n"
      ],
      "metadata": {
        "id": "iFGLLyaUY34g"
      }
    },
    {
      "cell_type": "markdown",
      "source": [
        "1. Write a Python program to print &quot;Hello Python&quot;?"
      ],
      "metadata": {
        "id": "2yRAKiUEZZnC"
      }
    },
    {
      "cell_type": "code",
      "source": [
        "a= \"Hello Python\"\n",
        "print(a)"
      ],
      "metadata": {
        "colab": {
          "base_uri": "https://localhost:8080/"
        },
        "id": "czQpbN9WZkrS",
        "outputId": "6b4a510b-862c-448e-c9ea-e0bc4bc22b37"
      },
      "execution_count": 42,
      "outputs": [
        {
          "output_type": "stream",
          "name": "stdout",
          "text": [
            "Hello Python\n"
          ]
        }
      ]
    },
    {
      "cell_type": "markdown",
      "source": [
        "2. Write a Python program to do arithmetical operations addition and division.?"
      ],
      "metadata": {
        "id": "dY23RWODaStS"
      }
    },
    {
      "cell_type": "code",
      "source": [
        "a=int(input(\"Enter your first number\"))\n",
        "b=int(input(\"Enter your second number\"))\n",
        "o=(float(a)+float(b))\n",
        "p=(float(a)/float(b))\n",
        "print('addition of the number is',o)\n",
        "print('division of the number is',p)"
      ],
      "metadata": {
        "colab": {
          "base_uri": "https://localhost:8080/"
        },
        "id": "3tjr8QWvaah7",
        "outputId": "eb0331b4-9477-4ef3-d9f8-4021a97ca6c7"
      },
      "execution_count": 55,
      "outputs": [
        {
          "output_type": "stream",
          "name": "stdout",
          "text": [
            "Enter your first number20\n",
            "Enter your second number20\n",
            "addition of the number is 40.0\n",
            "division of the number is 1.0\n"
          ]
        }
      ]
    },
    {
      "cell_type": "markdown",
      "source": [
        "3. Write a Python program to find the area of a triangle?"
      ],
      "metadata": {
        "id": "lISv5f6VdcKP"
      }
    },
    {
      "cell_type": "code",
      "source": [
        "h=int(input(\"Enter the height of triangle\"))\n",
        "b=int(input(\"Enter the base of triangle\"))\n",
        "#area of a triangle\n",
        "a=(float(h)/2*float(b))\n",
        "print('Area of Triangle',a)"
      ],
      "metadata": {
        "colab": {
          "base_uri": "https://localhost:8080/"
        },
        "id": "dzUDqz6-dgXR",
        "outputId": "02a1ebbe-0cb6-4cd3-f96d-3732cc80f04d"
      },
      "execution_count": 57,
      "outputs": [
        {
          "output_type": "stream",
          "name": "stdout",
          "text": [
            "Enter the height of triangle4\n",
            "Enter the base of triangle1\n",
            "Area of Triangle 2.0\n"
          ]
        }
      ]
    },
    {
      "cell_type": "markdown",
      "source": [
        "4. Write a Python program to swap two variables?"
      ],
      "metadata": {
        "id": "3ZGugZW9fViw"
      }
    },
    {
      "cell_type": "code",
      "source": [
        "P = int( input(\"Please enter value for P: \"))\n",
        "Q = int( input(\"Please enter value for Q: \"))\n",
        "# To Swap the values of two variables.\n",
        "R = P  \n",
        "P = Q  \n",
        "Q = R\n",
        "print (\"The Value of P after swapping: \", P)\n",
        "print (\"The Value of Q after swapping: \", Q)\n"
      ],
      "metadata": {
        "colab": {
          "base_uri": "https://localhost:8080/"
        },
        "id": "K5pkzkuZfO6x",
        "outputId": "c6fdb857-dcfd-4fc0-9b5c-ae0d52477faf"
      },
      "execution_count": 62,
      "outputs": [
        {
          "output_type": "stream",
          "name": "stdout",
          "text": [
            "Please enter value for P: 12\n",
            "Please enter value for Q: 10\n",
            "The Value of P after swapping:  10\n",
            "The Value of Q after swapping:  12\n"
          ]
        }
      ]
    },
    {
      "cell_type": "markdown",
      "source": [
        "5. Write a Python program to generate a random number?"
      ],
      "metadata": {
        "id": "5pv5luxahi13"
      }
    },
    {
      "cell_type": "code",
      "source": [
        "import random  \n",
        "n = random.randint(0,1000)  \n",
        "print(n) "
      ],
      "metadata": {
        "colab": {
          "base_uri": "https://localhost:8080/"
        },
        "id": "E24mavqphn_G",
        "outputId": "5203709a-6cfa-4707-8b6e-f5970d28cc49"
      },
      "execution_count": 73,
      "outputs": [
        {
          "output_type": "stream",
          "name": "stdout",
          "text": [
            "613\n"
          ]
        }
      ]
    }
  ]
}